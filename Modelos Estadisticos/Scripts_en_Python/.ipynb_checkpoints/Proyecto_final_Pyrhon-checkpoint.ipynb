{
 "cells": [
  {
   "cell_type": "code",
   "execution_count": 69,
   "metadata": {},
   "outputs": [],
   "source": [
    "import pandas as pd\n",
    "import xlrd"
   ]
  },
  {
   "cell_type": "code",
   "execution_count": 70,
   "metadata": {},
   "outputs": [],
   "source": [
    "df = pd.read_excel(\"D:\\\\Desarrollo\\\\Diplomado\\\\Modelos Estadisticos\\\\Datos\\\\Consumo_Gasolina_Autos_Ene_2018.xlsx\")"
   ]
  },
  {
   "cell_type": "code",
   "execution_count": 71,
   "metadata": {},
   "outputs": [
    {
     "data": {
      "text/plain": [
       "<bound method NDFrame.head of            Marca     Submarca                                        Versión  \\\n",
       "0           FORD       FUSION         HIBRIDO 4PTS 2.0L 4CIL 188HP AUT (CVT)   \n",
       "1           FORD       FUSION        HIBRIDO 4PTS 2.0L 4CIL 188HP AUT (eCVT)   \n",
       "2           FORD       FUSION  HIBRIDO 4X2 4PTAS 2.0L 4CIL 141(+47e)HP E-CVT   \n",
       "3           FORD       FUSION         HIBRIDO 4PTAS 2.0L 4CIL 188HP AUT eCVT   \n",
       "4           FORD       FUSION                HYBRID 4PTS 2.5L 4CIL 156HP CVT   \n",
       "...          ...          ...                                            ...   \n",
       "4612  LAND ROVER  RANGE ROVER               SUPERCARGADA 5PTS 5.0L 506HP AUT   \n",
       "4613  LAND ROVER  RANGE ROVER          SUPERCARGADA 5PTS 5.0L 8CIL 506HP AUT   \n",
       "4614    MERCEDES         G 65     AMG 4X4 5PTAS 6.0L 12CIL 630HP AUT BITURBO   \n",
       "4615    MERCEDES         G 65         AMG 5PTAS 6.0L 12CIL 630HP BITURBO AUT   \n",
       "4616    MERCEDES     ML63 AMG                       5PTS 6.2L 8CIL 503HP AUT   \n",
       "\n",
       "      Modelo    Trans.     Comb.  Cilindros  Potencia (HP)  Tamaño (L)  \\\n",
       "0       2015       CVT  Gasolina          4            188        2.00   \n",
       "1       2016       CVT  Gasolina          4            188        2.00   \n",
       "2       2017       CVT  Gasolina          4            188        2.00   \n",
       "3       2018       AUT  Gasolina          4            188        2.00   \n",
       "4       2011       CVT  Gasolina          4            156        2.50   \n",
       "...      ...       ...       ...        ...            ...         ...   \n",
       "4612    2012       AUT  Gasolina          8            506        5.00   \n",
       "4613    2013       AUT  Gasolina          8            506        5.00   \n",
       "4614    2016       AUT  Gasolina         12            630        5.98   \n",
       "4615    2018       AUT  Gasolina         12            630        5.98   \n",
       "4616    2011  G TRONIC  Gasolina          8            503        6.20   \n",
       "\n",
       "                             Categoría  R. Ciudad (km/l)  R. Carr. (km/l)  \\\n",
       "0                      AUTOS COMPACTOS             27.44            28.57   \n",
       "1                      AUTOS COMPACTOS             27.44            28.57   \n",
       "2                      AUTOS COMPACTOS             25.62            24.77   \n",
       "3                      AUTOS COMPACTOS             25.62            24.77   \n",
       "4                      AUTOS COMPACTOS             24.00            21.90   \n",
       "...                                ...               ...              ...   \n",
       "4612  CAMIONETAS DE USO MULTIPLE (SUV)              4.42             9.60   \n",
       "4613  CAMIONETAS DE USO MULTIPLE (SUV)              4.42             9.60   \n",
       "4614  CAMIONETAS DE USO MULTIPLE (SUV)              4.41             7.30   \n",
       "4615  CAMIONETAS DE USO MULTIPLE (SUV)              4.41             7.30   \n",
       "4616  CAMIONETAS DE USO MULTIPLE (SUV)              4.14             8.19   \n",
       "\n",
       "      R. Comb. (km/l)  R. Ajust. (km/l)  CO2(g/km)  NOx (g/1000km)  \\\n",
       "0               28.93             21.70        107               5   \n",
       "1               28.93             21.70        107               0   \n",
       "2               25.23             18.92        123               2   \n",
       "3               25.23             18.92        123               2   \n",
       "4               23.01             17.26        135               5   \n",
       "...               ...               ...        ...             ...   \n",
       "4612             6.97              5.22        446              39   \n",
       "4613             6.97              5.22        446              39   \n",
       "4614             6.45              4.84        482              38   \n",
       "4615             6.45              4.84        482              38   \n",
       "4616             5.33              3.99        584              31   \n",
       "\n",
       "      Calificación Gas Ef. Inv. Calificación Contam. Aire  \n",
       "0                            10                         9  \n",
       "1                            10                         9  \n",
       "2                            10                         9  \n",
       "3                            10                         9  \n",
       "4                             9                         9  \n",
       "...                         ...                       ...  \n",
       "4612                          0                         ?  \n",
       "4613                          0                         ?  \n",
       "4614                          0                         ?  \n",
       "4615                          0                         ?  \n",
       "4616                          0                         6  \n",
       "\n",
       "[4617 rows x 18 columns]>"
      ]
     },
     "execution_count": 71,
     "metadata": {},
     "output_type": "execute_result"
    }
   ],
   "source": [
    "df.head"
   ]
  },
  {
   "cell_type": "code",
   "execution_count": 72,
   "metadata": {},
   "outputs": [],
   "source": [
    "def resumen_transmisión(x):\n",
    "    if  x != 'MAN':\n",
    "        return 'AUT'"
   ]
  },
  {
   "cell_type": "code",
   "execution_count": 73,
   "metadata": {},
   "outputs": [],
   "source": [
    "df['Trans_resumen'] = df['Trans.'].map(resumen_transmisión)"
   ]
  },
  {
   "cell_type": "code",
   "execution_count": 74,
   "metadata": {},
   "outputs": [
    {
     "data": {
      "text/html": [
       "<div>\n",
       "<style scoped>\n",
       "    .dataframe tbody tr th:only-of-type {\n",
       "        vertical-align: middle;\n",
       "    }\n",
       "\n",
       "    .dataframe tbody tr th {\n",
       "        vertical-align: top;\n",
       "    }\n",
       "\n",
       "    .dataframe thead th {\n",
       "        text-align: right;\n",
       "    }\n",
       "</style>\n",
       "<table border=\"1\" class=\"dataframe\">\n",
       "  <thead>\n",
       "    <tr style=\"text-align: right;\">\n",
       "      <th></th>\n",
       "      <th>Marca</th>\n",
       "      <th>Submarca</th>\n",
       "      <th>Versión</th>\n",
       "      <th>Modelo</th>\n",
       "      <th>Trans.</th>\n",
       "      <th>Comb.</th>\n",
       "      <th>Cilindros</th>\n",
       "      <th>Potencia (HP)</th>\n",
       "      <th>Tamaño (L)</th>\n",
       "      <th>Categoría</th>\n",
       "      <th>R. Ciudad (km/l)</th>\n",
       "      <th>R. Carr. (km/l)</th>\n",
       "      <th>R. Comb. (km/l)</th>\n",
       "      <th>R. Ajust. (km/l)</th>\n",
       "      <th>CO2(g/km)</th>\n",
       "      <th>NOx (g/1000km)</th>\n",
       "      <th>Calificación Gas Ef. Inv.</th>\n",
       "      <th>Calificación Contam. Aire</th>\n",
       "      <th>Trans_resumen</th>\n",
       "    </tr>\n",
       "  </thead>\n",
       "  <tbody>\n",
       "    <tr>\n",
       "      <th>0</th>\n",
       "      <td>FORD</td>\n",
       "      <td>FUSION</td>\n",
       "      <td>HIBRIDO 4PTS 2.0L 4CIL 188HP AUT (CVT)</td>\n",
       "      <td>2015</td>\n",
       "      <td>CVT</td>\n",
       "      <td>Gasolina</td>\n",
       "      <td>4</td>\n",
       "      <td>188</td>\n",
       "      <td>2.0</td>\n",
       "      <td>AUTOS COMPACTOS</td>\n",
       "      <td>27.44</td>\n",
       "      <td>28.57</td>\n",
       "      <td>28.93</td>\n",
       "      <td>21.70</td>\n",
       "      <td>107</td>\n",
       "      <td>5</td>\n",
       "      <td>10</td>\n",
       "      <td>9</td>\n",
       "      <td>AUT</td>\n",
       "    </tr>\n",
       "    <tr>\n",
       "      <th>1</th>\n",
       "      <td>FORD</td>\n",
       "      <td>FUSION</td>\n",
       "      <td>HIBRIDO 4PTS 2.0L 4CIL 188HP AUT (eCVT)</td>\n",
       "      <td>2016</td>\n",
       "      <td>CVT</td>\n",
       "      <td>Gasolina</td>\n",
       "      <td>4</td>\n",
       "      <td>188</td>\n",
       "      <td>2.0</td>\n",
       "      <td>AUTOS COMPACTOS</td>\n",
       "      <td>27.44</td>\n",
       "      <td>28.57</td>\n",
       "      <td>28.93</td>\n",
       "      <td>21.70</td>\n",
       "      <td>107</td>\n",
       "      <td>0</td>\n",
       "      <td>10</td>\n",
       "      <td>9</td>\n",
       "      <td>AUT</td>\n",
       "    </tr>\n",
       "    <tr>\n",
       "      <th>2</th>\n",
       "      <td>FORD</td>\n",
       "      <td>FUSION</td>\n",
       "      <td>HIBRIDO 4X2 4PTAS 2.0L 4CIL 141(+47e)HP E-CVT</td>\n",
       "      <td>2017</td>\n",
       "      <td>CVT</td>\n",
       "      <td>Gasolina</td>\n",
       "      <td>4</td>\n",
       "      <td>188</td>\n",
       "      <td>2.0</td>\n",
       "      <td>AUTOS COMPACTOS</td>\n",
       "      <td>25.62</td>\n",
       "      <td>24.77</td>\n",
       "      <td>25.23</td>\n",
       "      <td>18.92</td>\n",
       "      <td>123</td>\n",
       "      <td>2</td>\n",
       "      <td>10</td>\n",
       "      <td>9</td>\n",
       "      <td>AUT</td>\n",
       "    </tr>\n",
       "    <tr>\n",
       "      <th>3</th>\n",
       "      <td>FORD</td>\n",
       "      <td>FUSION</td>\n",
       "      <td>HIBRIDO 4PTAS 2.0L 4CIL 188HP AUT eCVT</td>\n",
       "      <td>2018</td>\n",
       "      <td>AUT</td>\n",
       "      <td>Gasolina</td>\n",
       "      <td>4</td>\n",
       "      <td>188</td>\n",
       "      <td>2.0</td>\n",
       "      <td>AUTOS COMPACTOS</td>\n",
       "      <td>25.62</td>\n",
       "      <td>24.77</td>\n",
       "      <td>25.23</td>\n",
       "      <td>18.92</td>\n",
       "      <td>123</td>\n",
       "      <td>2</td>\n",
       "      <td>10</td>\n",
       "      <td>9</td>\n",
       "      <td>AUT</td>\n",
       "    </tr>\n",
       "    <tr>\n",
       "      <th>4</th>\n",
       "      <td>FORD</td>\n",
       "      <td>FUSION</td>\n",
       "      <td>HYBRID 4PTS 2.5L 4CIL 156HP CVT</td>\n",
       "      <td>2011</td>\n",
       "      <td>CVT</td>\n",
       "      <td>Gasolina</td>\n",
       "      <td>4</td>\n",
       "      <td>156</td>\n",
       "      <td>2.5</td>\n",
       "      <td>AUTOS COMPACTOS</td>\n",
       "      <td>24.00</td>\n",
       "      <td>21.90</td>\n",
       "      <td>23.01</td>\n",
       "      <td>17.26</td>\n",
       "      <td>135</td>\n",
       "      <td>5</td>\n",
       "      <td>9</td>\n",
       "      <td>9</td>\n",
       "      <td>AUT</td>\n",
       "    </tr>\n",
       "  </tbody>\n",
       "</table>\n",
       "</div>"
      ],
      "text/plain": [
       "  Marca Submarca                                        Versión  Modelo  \\\n",
       "0  FORD   FUSION         HIBRIDO 4PTS 2.0L 4CIL 188HP AUT (CVT)    2015   \n",
       "1  FORD   FUSION        HIBRIDO 4PTS 2.0L 4CIL 188HP AUT (eCVT)    2016   \n",
       "2  FORD   FUSION  HIBRIDO 4X2 4PTAS 2.0L 4CIL 141(+47e)HP E-CVT    2017   \n",
       "3  FORD   FUSION         HIBRIDO 4PTAS 2.0L 4CIL 188HP AUT eCVT    2018   \n",
       "4  FORD   FUSION                HYBRID 4PTS 2.5L 4CIL 156HP CVT    2011   \n",
       "\n",
       "  Trans.     Comb.  Cilindros  Potencia (HP)  Tamaño (L)        Categoría  \\\n",
       "0    CVT  Gasolina          4            188         2.0  AUTOS COMPACTOS   \n",
       "1    CVT  Gasolina          4            188         2.0  AUTOS COMPACTOS   \n",
       "2    CVT  Gasolina          4            188         2.0  AUTOS COMPACTOS   \n",
       "3    AUT  Gasolina          4            188         2.0  AUTOS COMPACTOS   \n",
       "4    CVT  Gasolina          4            156         2.5  AUTOS COMPACTOS   \n",
       "\n",
       "   R. Ciudad (km/l)  R. Carr. (km/l)  R. Comb. (km/l)  R. Ajust. (km/l)  \\\n",
       "0             27.44            28.57            28.93             21.70   \n",
       "1             27.44            28.57            28.93             21.70   \n",
       "2             25.62            24.77            25.23             18.92   \n",
       "3             25.62            24.77            25.23             18.92   \n",
       "4             24.00            21.90            23.01             17.26   \n",
       "\n",
       "   CO2(g/km)  NOx (g/1000km)  Calificación Gas Ef. Inv.  \\\n",
       "0        107               5                         10   \n",
       "1        107               0                         10   \n",
       "2        123               2                         10   \n",
       "3        123               2                         10   \n",
       "4        135               5                          9   \n",
       "\n",
       "  Calificación Contam. Aire Trans_resumen  \n",
       "0                         9           AUT  \n",
       "1                         9           AUT  \n",
       "2                         9           AUT  \n",
       "3                         9           AUT  \n",
       "4                         9           AUT  "
      ]
     },
     "execution_count": 74,
     "metadata": {},
     "output_type": "execute_result"
    }
   ],
   "source": [
    "df.head()"
   ]
  },
  {
   "cell_type": "code",
   "execution_count": 96,
   "metadata": {},
   "outputs": [
    {
     "data": {
      "text/html": [
       "<div>\n",
       "<style scoped>\n",
       "    .dataframe tbody tr th:only-of-type {\n",
       "        vertical-align: middle;\n",
       "    }\n",
       "\n",
       "    .dataframe tbody tr th {\n",
       "        vertical-align: top;\n",
       "    }\n",
       "\n",
       "    .dataframe thead th {\n",
       "        text-align: right;\n",
       "    }\n",
       "</style>\n",
       "<table border=\"1\" class=\"dataframe\">\n",
       "  <thead>\n",
       "    <tr style=\"text-align: right;\">\n",
       "      <th></th>\n",
       "      <th>Cilindros</th>\n",
       "      <th>Potencia (HP)</th>\n",
       "      <th>Tamaño (L)</th>\n",
       "      <th>R. Ciudad (km/l)</th>\n",
       "      <th>R. Carr. (km/l)</th>\n",
       "      <th>R. Comb. (km/l)</th>\n",
       "      <th>R. Ajust. (km/l)</th>\n",
       "      <th>CO2(g/km)</th>\n",
       "      <th>NOx (g/1000km)</th>\n",
       "      <th>Calificación Gas Ef. Inv.</th>\n",
       "      <th>Calificación Contam. Aire</th>\n",
       "    </tr>\n",
       "  </thead>\n",
       "  <tbody>\n",
       "    <tr>\n",
       "      <th>count</th>\n",
       "      <td>4617.000000</td>\n",
       "      <td>4617.000000</td>\n",
       "      <td>4617.000000</td>\n",
       "      <td>4617.000000</td>\n",
       "      <td>4617.000000</td>\n",
       "      <td>4617.000000</td>\n",
       "      <td>4617.000000</td>\n",
       "      <td>4617.00000</td>\n",
       "      <td>4617.000000</td>\n",
       "      <td>4617.000000</td>\n",
       "      <td>4617.000000</td>\n",
       "    </tr>\n",
       "    <tr>\n",
       "      <th>mean</th>\n",
       "      <td>5.329218</td>\n",
       "      <td>254.991553</td>\n",
       "      <td>2.869923</td>\n",
       "      <td>10.604934</td>\n",
       "      <td>16.612749</td>\n",
       "      <td>13.183803</td>\n",
       "      <td>9.887754</td>\n",
       "      <td>256.53368</td>\n",
       "      <td>30.803552</td>\n",
       "      <td>4.885207</td>\n",
       "      <td>7.119125</td>\n",
       "    </tr>\n",
       "    <tr>\n",
       "      <th>std</th>\n",
       "      <td>1.800226</td>\n",
       "      <td>132.791017</td>\n",
       "      <td>1.347559</td>\n",
       "      <td>3.285876</td>\n",
       "      <td>4.186279</td>\n",
       "      <td>3.603346</td>\n",
       "      <td>2.702537</td>\n",
       "      <td>75.57912</td>\n",
       "      <td>56.901643</td>\n",
       "      <td>2.484840</td>\n",
       "      <td>1.774096</td>\n",
       "    </tr>\n",
       "    <tr>\n",
       "      <th>min</th>\n",
       "      <td>3.000000</td>\n",
       "      <td>60.000000</td>\n",
       "      <td>0.898000</td>\n",
       "      <td>3.100000</td>\n",
       "      <td>6.700000</td>\n",
       "      <td>4.960000</td>\n",
       "      <td>3.720000</td>\n",
       "      <td>107.00000</td>\n",
       "      <td>0.000000</td>\n",
       "      <td>0.000000</td>\n",
       "      <td>1.000000</td>\n",
       "    </tr>\n",
       "    <tr>\n",
       "      <th>25%</th>\n",
       "      <td>4.000000</td>\n",
       "      <td>150.000000</td>\n",
       "      <td>1.800000</td>\n",
       "      <td>8.200000</td>\n",
       "      <td>13.480000</td>\n",
       "      <td>10.460000</td>\n",
       "      <td>7.850000</td>\n",
       "      <td>200.00000</td>\n",
       "      <td>10.000000</td>\n",
       "      <td>3.000000</td>\n",
       "      <td>5.000000</td>\n",
       "    </tr>\n",
       "    <tr>\n",
       "      <th>50%</th>\n",
       "      <td>4.000000</td>\n",
       "      <td>220.000000</td>\n",
       "      <td>2.500000</td>\n",
       "      <td>10.420000</td>\n",
       "      <td>16.390000</td>\n",
       "      <td>12.870000</td>\n",
       "      <td>9.650000</td>\n",
       "      <td>243.00000</td>\n",
       "      <td>17.000000</td>\n",
       "      <td>5.000000</td>\n",
       "      <td>7.000000</td>\n",
       "    </tr>\n",
       "    <tr>\n",
       "      <th>75%</th>\n",
       "      <td>6.000000</td>\n",
       "      <td>330.000000</td>\n",
       "      <td>3.600000</td>\n",
       "      <td>12.810000</td>\n",
       "      <td>19.600000</td>\n",
       "      <td>15.610000</td>\n",
       "      <td>11.710000</td>\n",
       "      <td>299.00000</td>\n",
       "      <td>28.000000</td>\n",
       "      <td>7.000000</td>\n",
       "      <td>9.000000</td>\n",
       "    </tr>\n",
       "    <tr>\n",
       "      <th>max</th>\n",
       "      <td>12.000000</td>\n",
       "      <td>888.000000</td>\n",
       "      <td>8.400000</td>\n",
       "      <td>27.460000</td>\n",
       "      <td>31.300000</td>\n",
       "      <td>28.930000</td>\n",
       "      <td>21.700000</td>\n",
       "      <td>627.00000</td>\n",
       "      <td>724.000000</td>\n",
       "      <td>10.000000</td>\n",
       "      <td>9.000000</td>\n",
       "    </tr>\n",
       "  </tbody>\n",
       "</table>\n",
       "</div>"
      ],
      "text/plain": [
       "         Cilindros  Potencia (HP)   Tamaño (L)  R. Ciudad (km/l)  \\\n",
       "count  4617.000000    4617.000000  4617.000000       4617.000000   \n",
       "mean      5.329218     254.991553     2.869923         10.604934   \n",
       "std       1.800226     132.791017     1.347559          3.285876   \n",
       "min       3.000000      60.000000     0.898000          3.100000   \n",
       "25%       4.000000     150.000000     1.800000          8.200000   \n",
       "50%       4.000000     220.000000     2.500000         10.420000   \n",
       "75%       6.000000     330.000000     3.600000         12.810000   \n",
       "max      12.000000     888.000000     8.400000         27.460000   \n",
       "\n",
       "       R. Carr. (km/l)  R. Comb. (km/l)  R. Ajust. (km/l)   CO2(g/km)  \\\n",
       "count      4617.000000      4617.000000       4617.000000  4617.00000   \n",
       "mean         16.612749        13.183803          9.887754   256.53368   \n",
       "std           4.186279         3.603346          2.702537    75.57912   \n",
       "min           6.700000         4.960000          3.720000   107.00000   \n",
       "25%          13.480000        10.460000          7.850000   200.00000   \n",
       "50%          16.390000        12.870000          9.650000   243.00000   \n",
       "75%          19.600000        15.610000         11.710000   299.00000   \n",
       "max          31.300000        28.930000         21.700000   627.00000   \n",
       "\n",
       "       NOx (g/1000km)  Calificación Gas Ef. Inv.  Calificación Contam. Aire  \n",
       "count     4617.000000                4617.000000                4617.000000  \n",
       "mean        30.803552                   4.885207                   7.119125  \n",
       "std         56.901643                   2.484840                   1.774096  \n",
       "min          0.000000                   0.000000                   1.000000  \n",
       "25%         10.000000                   3.000000                   5.000000  \n",
       "50%         17.000000                   5.000000                   7.000000  \n",
       "75%         28.000000                   7.000000                   9.000000  \n",
       "max        724.000000                  10.000000                   9.000000  "
      ]
     },
     "execution_count": 96,
     "metadata": {},
     "output_type": "execute_result"
    }
   ],
   "source": [
    "df.describe()"
   ]
  },
  {
   "cell_type": "code",
   "execution_count": 76,
   "metadata": {},
   "outputs": [],
   "source": [
    "df['Modelo'] = str(df['Modelo'])"
   ]
  },
  {
   "cell_type": "code",
   "execution_count": 77,
   "metadata": {},
   "outputs": [
    {
     "data": {
      "text/plain": [
       "array(['Gasolina', 'Diesel'], dtype=object)"
      ]
     },
     "execution_count": 77,
     "metadata": {},
     "output_type": "execute_result"
    }
   ],
   "source": [
    "df['Comb.'].unique()"
   ]
  },
  {
   "cell_type": "code",
   "execution_count": 78,
   "metadata": {},
   "outputs": [
    {
     "data": {
      "text/plain": [
       "array(['AUTOS COMPACTOS', 'AUTOS DE LUJO', 'AUTOS DEPORTIVOS',\n",
       "       'AUTOS SUBCOMPACTOS', 'CAMIONETAS DE USO MULTIPLE (SUV)'],\n",
       "      dtype=object)"
      ]
     },
     "execution_count": 78,
     "metadata": {},
     "output_type": "execute_result"
    }
   ],
   "source": [
    "df['Categoría'].unique()"
   ]
  },
  {
   "cell_type": "code",
   "execution_count": 79,
   "metadata": {},
   "outputs": [
    {
     "data": {
      "text/plain": [
       "array(['CVT', 'AUT', 'MAN', 'DSG', 'TIPT', 'TIPTRONIC', 'M6', 'M5', nan,\n",
       "       'DUALOGIC', 'TIP', 'MULTITRONIC', 'MULTIT', 'STRONIC', 'S TRONIC',\n",
       "       'S TRONIC 7', 'MAN 6', 'PDK', 'DCT', 'G TRONIC', 'TIP 8',\n",
       "       'R TRONIC', 'ZF SPEED QUICKSHIFT', 'DKG', 'ASG'], dtype=object)"
      ]
     },
     "execution_count": 79,
     "metadata": {},
     "output_type": "execute_result"
    }
   ],
   "source": [
    "df['Trans.'].unique()"
   ]
  },
  {
   "cell_type": "code",
   "execution_count": 80,
   "metadata": {},
   "outputs": [],
   "source": [
    "marca = df['Marca'].unique()"
   ]
  },
  {
   "cell_type": "code",
   "execution_count": 81,
   "metadata": {},
   "outputs": [
    {
     "data": {
      "text/plain": [
       "array(['FORD', 'HONDA', 'SEAT', 'MAZDA', 'CHEVROLET', 'VW', 'SUZUKI',\n",
       "       'NISSAN', 'HYUNDAI', 'FIAT', 'MITSUBISHI', 'KIA', 'MERCEDES',\n",
       "       'DODGE', 'RENAULT', 'PEUGEOT', 'TOYOTA', 'BMW', 'AUDI', 'MINI',\n",
       "       'SUBARU', 'INFINITI', 'VOLVO', 'ALFA ROMEO', 'PORSCHE', 'ACURA',\n",
       "       'CADILLAC', 'CHRYSLER', 'LINCOLN', 'BUICK', 'SAAB', 'LEXUS',\n",
       "       'JAGUAR', 'BENTLEY', 'ROLLSROYCE', 'MAYBACH', 'LAMBORGHINI',\n",
       "       'SMART', 'LAND ROVER', 'GML', 'JEEP', 'MERCURY', 'GMC'],\n",
       "      dtype=object)"
      ]
     },
     "execution_count": 81,
     "metadata": {},
     "output_type": "execute_result"
    }
   ],
   "source": [
    "marca"
   ]
  },
  {
   "cell_type": "code",
   "execution_count": 82,
   "metadata": {},
   "outputs": [
    {
     "data": {
      "text/plain": [
       "43"
      ]
     },
     "execution_count": 82,
     "metadata": {},
     "output_type": "execute_result"
    }
   ],
   "source": [
    "len(marca)"
   ]
  },
  {
   "cell_type": "code",
   "execution_count": 83,
   "metadata": {},
   "outputs": [],
   "source": [
    "submarcas = df['Submarca'].unique()"
   ]
  },
  {
   "cell_type": "code",
   "execution_count": 84,
   "metadata": {},
   "outputs": [
    {
     "data": {
      "text/plain": [
       "array(['FUSION', 'CIVIC', 'CIVIC HIBRIDO', 'TOLEDO', 'MAZDA2', 'CRUZE',\n",
       "       'GOLF', 'JETTA', 'CAVALIER', 'S-CROSS', 'SENTRA', 'MAZDA3',\n",
       "       'ELANTRA', 'BEETLE', 'FOCUS', 'CX-3', 'DOBLO', 'LANCER', 'VERSA',\n",
       "       'TIIDA', 'SOUL', 'JUKE', 'MALIBU', 'A 200', 'CITY', 'VISION',\n",
       "       'CLASICO', 'FIT', 'DART', 'MAZDA6', 'B 180', 'A180', 'A200',\n",
       "       'FORTE', 'STEPWAY', 'OPTIMA', 'B180', 'ASX', 'CLÁSICO',\n",
       "       'GRAND RAID', 'A 250', 'SX4', 'A250', 'HR-V', 'MAZDA 2',\n",
       "       'JETTA MKVI', 'MAZDA5', 'MAZDA 6', 'COROLLA', 'CALIBER', 'AVENGER',\n",
       "       '301', 'MATRIX', '307', '308', 'B200', 'LINEA', 'MAZDA 3', 'A 45',\n",
       "       '207', 'AVANZA', 'TAURUS (POLICE INTERCEPTOR)', 'FUSION SPORT',\n",
       "       'FLUENCE', 'POLICE INTERCEPTOR', 'VOLT', 'PRIUS HIBRIDO', 'PRIUS',\n",
       "       '335iA', 'A4', 'A3', 'i8', 'R8', 'COOPER', 'A1', '318iA', '218iA',\n",
       "       'IMPREZA', 'CLS350', 'X1', 'Q50', 'ALTIMA', 'CLA200', '330iA',\n",
       "       '320iA', 'TT', 'LEGACY', '430iA', 'V40', '220iA', 'XV',\n",
       "       'GIULIETTA', 'MITO', '420iA', 'MACAN', 'CLA 180', 'CLA 200',\n",
       "       '118iA', 'A6', 'C 180', 'C 200', 'C 250', 'GLA 180', 'GLA 200',\n",
       "       '120iA', 'GENESIS', 'SONATA', 'ILX', '118i', '116iA', 'S60', 'A5',\n",
       "       'CAMRY', 'PANAMERA', '120i', 'SLC 180', 'C180', 'SLC 300', '535iA',\n",
       "       'CAYMAN', 'MAXIMA', 'GLA 250', 'SLC 200', 'KIZASHI', 'CLA 250',\n",
       "       'E 200', 'E 250', '4C', '328iA', '340iA', 'ATS', '428iA', 'CLA250',\n",
       "       '328i', '200', 'MKZ', '520iA', '528iA', 'V60', 'CTS', 'ACCORD',\n",
       "       'TL', 'PASSAT', '740iA', 'A7', 'M4', 'GLC 250', 'TSX', '440iA',\n",
       "       'CLA45', 'E 300', 'Z4', 'XC60', 'VERANO', 'REGAL', 'TTS', 'S3',\n",
       "       '740LiA', 'RCZ', 'SLK200', 'G25', 'A8', 'WRX', 'PASSAT CC', 'C30',\n",
       "       'GLC 300', 'S4', 'S5', 'NSX', 'M140iA', 'M240iA', '750iA', 'RS Q3',\n",
       "       'CLA 45', 'GLA 45', 'NUEVO PASSAT', 'XC90', 'C180 CGI', 'C250',\n",
       "       'E250', 'RSQ3', 'E 400', 'G37', 'Q70', 'SAFRANE', 'CHARGER',\n",
       "       'C200 CGI', 'M37', 'C200', '535i', 'E200', 'MKC', 'TAURUS',\n",
       "       'M135iA', 'M235iA', 'E250 CGI', 'Q60', 'CLS 400', '640iA',\n",
       "       'SL 400', 'M2', '435iA', 'S40', 'SLC 43', 'S6', 'S7', '125i',\n",
       "       'C 43', 'C 63', 'Q7', '300', 'E400', 'LACROSSE', '508', 'CORVETTE',\n",
       "       'TLX', 'C 63 S', 'E 43', '325i', 'CROSSTOUR', 'M3', '335i', 'S8',\n",
       "       'V COUPE', 'MKX', 'MKS', 'RL', '530iA', '750LiA', '125iA', 'RS7',\n",
       "       '325iA', 'S80', 'GLC 43', 'M56', 'GLE 43', 'S 500', 'E 63',\n",
       "       '135iA', 'C350', 'S 400', '9-3', 'CLS 500', 'E350', 'SLK55',\n",
       "       'CONTINENTAL', '135i', 'SLK350', 'E 500', 'GT', 'RS5', '550iA',\n",
       "       '650iA', 'IS-C', 'SL 500', 'IS-F', 'SLK200 K', 'CLS500', 'TTRS',\n",
       "       '159', 'F-TYPE', 'CROWN VICTORIA', 'SL500', 'S350', 'S400', 'E300',\n",
       "       'CAMARO', 'C300', 'XF', '9-5', 'MULSANNE', '740i', 'E63', 'SL63',\n",
       "       'CLS63', 'M5', 'M6', 'S 63', 'XJ', 'S63', 'SL 63', 'CL63',\n",
       "       'CLS 63', '407', 'C70', 'E500', 'RLX', 'FLYING SPUR', 'S500',\n",
       "       '550i', 'GLE 63', 'CL500', '650i', '750i', '750Li', 'S 600',\n",
       "       'SL65', 'S 65', 'SL 65', 'S500 L', 'SLK55 AMG', 'C63', '760Li',\n",
       "       '760LiA', 'SLS', 'RS6', 'GHOST', 'ARNAGE', 'AZURE',\n",
       "       'BROOKLANDS 6.8 HP TIP Turba?', 'CL600', 'C63 AMG', 'WRAITH',\n",
       "       'SL600', 'SL63 AMG', 'S600 L', 'S65', 'CL65', 'E63 AMG',\n",
       "       'CLS63 AMG', 'S600', 'PHANTOM', 'S65L AMG', 'S63L AMG', 'CL63 AMG',\n",
       "       'CL65 AMG', 'SL65 AMG', '62', 'CR-Z', 'LEON', 'COOPER S', 'MX-5',\n",
       "       'BRZ', 'BOXSTER', 'TRAX', '918', 'MUSTANG', '911',\n",
       "       'MINI John Cooper Works', 'JOHN COOPER WORKS', '370Z',\n",
       "       'MAZDASPEED 3', 'CHALLENGER', 'ECLIPSE', 'VIPER', 'HURACAN', 'XKR',\n",
       "       'GALLARDO', '140 GALLARDO', 'SLR', 'AVENTADOR', 'MURCIELAGO',\n",
       "       'FORTWO', 'MIRAGE', 'FORFOUR', 'ATTITUDE', 'VENTO', 'i10', 'SPARK',\n",
       "       'ATOS', 'BEAT', 'PANDA', 'IBIZA', 'YARIS', 'FIGO', 'CIAZ',\n",
       "       'GRAND i10', 'NOTE', 'SWIFT', 'UP', 'UNO', 'FIESTA', 'POLO', 'RIO',\n",
       "       'MATIZ', 'IKON', 'SONIC', 'GOL', 'BRABUS', '500', 'MARCH', 'TSURU',\n",
       "       'AVEO', 'PALIO', '208', 'CHEVY', 'CROSSFOX', 'ALTEA', 'SANDERO',\n",
       "       'APRIO', 'PUNTO', 'PUNTO EVO', 'CADDY', 'CLIO', 'FREETRACK',\n",
       "       'LUPO', 'SCALA', 'ALBEA', 'EXEO', 'NIRO', '2008', 'Q3',\n",
       "       'TRANSPORTER', 'NUEVA VITARA', 'EXPLORER', 'Q5', 'CRETA', 'CX-5',\n",
       "       'QX60', 'PATHFINDER', 'EQUINOX', 'TIGUAN', 'TUCSON', 'OUTBACK',\n",
       "       'VITARA', 'DEFENDER', 'GF-8', 'FORESTER', 'X5', 'H350', 'X-TRAIL',\n",
       "       'ENCORE', 'TOUAREG', 'CAYENNE', 'V220d', 'OUTLANDER', 'ECOSPORT',\n",
       "       'SPORTAGE', 'DUSTER', 'SORENTO', 'ROGUE', 'TRANSIT', 'MULTIVAN',\n",
       "       'CARAVELLE', 'ESCAPE', 'PATRIOT', 'TRAFIC', 'CR-V', 'COMPASS',\n",
       "       'RAV4', 'RAV 4', 'X3', 'CX-7', 'CX-9', 'SANTA FE', 'GF-70', 'X4',\n",
       "       'GRAND VITARA', 'ENVISION', 'XT5', 'VITO', 'EDGE', 'V250',\n",
       "       'SPRINTER', 'EVASION', 'EVASIÓN', 'JOURNEY', 'MARINER', 'CAPTIVA',\n",
       "       'CAPTIVA SPORT', 'CHEROKEE', 'SRX', 'MURANO', 'JX35', 'SQ5',\n",
       "       'S Q5', 'ACADIA', '3008', 'CX9', 'URVAN', 'DUCATO', 'X6',\n",
       "       'DURANGO', 'GRAND CHEROKEE', 'ML350', 'H100', 'ENDEAVOR',\n",
       "       'GLE 400', 'RDX', 'TERRAIN', 'ZDX', 'FJ CRUISER', 'KOLEOS',\n",
       "       'TRAVERSE', 'GLK350', 'MONTERO', 'FX37', 'QX70', 'WRANGLER',\n",
       "       'ENCLAVE', 'TRIBECA', 'SIENNA', 'FX35', 'TOWN & COUNTRY',\n",
       "       'EXPEDITION', 'HIGHLANDER', 'LIBERTY', 'SUBURBAN',\n",
       "       'EXPLORER INTERCEPTOR', 'TAHOE', 'RANGE ROVER', 'EXPRESS',\n",
       "       'ESCALADE', 'YUKON', 'NAVIGATOR', 'ESCALADE SUV', 'GLE 350',\n",
       "       'ESCALADE ESV', 'LR2', 'GLK300', 'FX50', 'ROUTAN', 'MDX',\n",
       "       'ODYSSEY', 'G280', 'QX80', 'GLE 500', 'NITRO', 'SEQUOIA', 'G 500',\n",
       "       'GLS 500', 'QX56', 'ARMADA', 'PILOT', 'R350 L', 'R350', 'HIACE',\n",
       "       'ML63', 'GLS 63', 'G63', 'G 63', 'ML500', 'LAND CRUISER', 'R500 L',\n",
       "       'GL500', 'GL63', 'G500', 'X5 M', 'X6 M', 'LR4', 'G55 AMG', 'G55',\n",
       "       'G 65', 'ML63 AMG'], dtype=object)"
      ]
     },
     "execution_count": 84,
     "metadata": {},
     "output_type": "execute_result"
    }
   ],
   "source": [
    "submarcas"
   ]
  },
  {
   "cell_type": "code",
   "execution_count": 85,
   "metadata": {},
   "outputs": [
    {
     "data": {
      "text/plain": [
       "544"
      ]
     },
     "execution_count": 85,
     "metadata": {},
     "output_type": "execute_result"
    }
   ],
   "source": [
    "len(submarcas)"
   ]
  },
  {
   "cell_type": "code",
   "execution_count": 86,
   "metadata": {},
   "outputs": [
    {
     "data": {
      "text/plain": [
       "array(['HIBRIDO 4PTS 2.0L 4CIL 188HP AUT (CVT)',\n",
       "       'HIBRIDO 4PTS 2.0L 4CIL 188HP AUT (eCVT)',\n",
       "       'HIBRIDO 4X2 4PTAS 2.0L 4CIL 141(+47e)HP E-CVT', ...,\n",
       "       'AMG 4X4 5PTAS 6.0L 12CIL 630HP AUT BITURBO',\n",
       "       'AMG 5PTAS 6.0L 12CIL 630HP BITURBO AUT',\n",
       "       '5PTS 6.2L 8CIL 503HP AUT'], dtype=object)"
      ]
     },
     "execution_count": 86,
     "metadata": {},
     "output_type": "execute_result"
    }
   ],
   "source": [
    "df['Versión'].unique()"
   ]
  },
  {
   "cell_type": "code",
   "execution_count": null,
   "metadata": {},
   "outputs": [],
   "source": []
  },
  {
   "cell_type": "code",
   "execution_count": 90,
   "metadata": {},
   "outputs": [
    {
     "data": {
      "text/plain": [
       "array(['9', '8', '6', '5', '7', '4', '2', '3', '1'], dtype=object)"
      ]
     },
     "execution_count": 90,
     "metadata": {},
     "output_type": "execute_result"
    }
   ],
   "source": [
    "df['Calificación Contam. Aire'].unique()"
   ]
  },
  {
   "cell_type": "code",
   "execution_count": null,
   "metadata": {},
   "outputs": [],
   "source": []
  },
  {
   "cell_type": "code",
   "execution_count": null,
   "metadata": {},
   "outputs": [],
   "source": []
  },
  {
   "cell_type": "code",
   "execution_count": 88,
   "metadata": {},
   "outputs": [],
   "source": [
    "def limpia_calificaciones(x):\n",
    "    if x == '?':\n",
    "        return '5'\n",
    "    else:\n",
    "        return x"
   ]
  },
  {
   "cell_type": "code",
   "execution_count": 89,
   "metadata": {},
   "outputs": [],
   "source": [
    "df['Calificación Contam. Aire'] = df['Calificación Contam. Aire'].map(limpia_calificaciones)"
   ]
  },
  {
   "cell_type": "code",
   "execution_count": 95,
   "metadata": {},
   "outputs": [],
   "source": [
    "df['Calificación Contam. Aire'] = df['Calificación Contam. Aire'].astype(int)"
   ]
  },
  {
   "cell_type": "code",
   "execution_count": 97,
   "metadata": {},
   "outputs": [
    {
     "ename": "TypeError",
     "evalue": "to_excel() missing 1 required positional argument: 'excel_writer'",
     "output_type": "error",
     "traceback": [
      "\u001b[1;31m---------------------------------------------------------------------------\u001b[0m",
      "\u001b[1;31mTypeError\u001b[0m                                 Traceback (most recent call last)",
      "\u001b[1;32m<ipython-input-97-50ffbc8045a0>\u001b[0m in \u001b[0;36m<module>\u001b[1;34m\u001b[0m\n\u001b[1;32m----> 1\u001b[1;33m \u001b[0mdf\u001b[0m\u001b[1;33m.\u001b[0m\u001b[0mto_excel\u001b[0m\u001b[1;33m(\u001b[0m\u001b[1;33m)\u001b[0m\u001b[1;33m\u001b[0m\u001b[1;33m\u001b[0m\u001b[0m\n\u001b[0m",
      "\u001b[1;31mTypeError\u001b[0m: to_excel() missing 1 required positional argument: 'excel_writer'"
     ]
    }
   ],
   "source": [
    "df.to_excel()"
   ]
  },
  {
   "cell_type": "code",
   "execution_count": null,
   "metadata": {},
   "outputs": [],
   "source": []
  }
 ],
 "metadata": {
  "kernelspec": {
   "display_name": "VirtualPythonPrincipal",
   "language": "python",
   "name": "virtualpythonprincipal"
  },
  "language_info": {
   "codemirror_mode": {
    "name": "ipython",
    "version": 3
   },
   "file_extension": ".py",
   "mimetype": "text/x-python",
   "name": "python",
   "nbconvert_exporter": "python",
   "pygments_lexer": "ipython3",
   "version": "3.8.2"
  }
 },
 "nbformat": 4,
 "nbformat_minor": 4
}
